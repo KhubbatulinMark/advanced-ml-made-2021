{
 "cells": [
  {
   "cell_type": "markdown",
   "metadata": {},
   "source": [
    "# <center> Продвинутое машинное обучение\n",
    "## <center> Домашнее задание № 3\n",
    "\n",
    "## <center> Хуббатулин Марк. Группа DS2-1"
   ]
  },
  {
   "cell_type": "markdown",
   "metadata": {},
   "source": [
    "В этом небольшом домашнем задании мы попробуем улучшить метод Шерлока Холмса. Как известно, в рассказе The Adventure of the Dancing Men великий сыщик расшифровал загадочные письмена, которые выглядели примерно так:"
   ]
  },
  {
   "cell_type": "markdown",
   "metadata": {},
   "source": [
    "<center><img src=\"data/pic/dancing_man.png\"/></center>"
   ]
  },
  {
   "cell_type": "markdown",
   "metadata": {},
   "source": [
    "Пользовался он для этого так называемым частотным методом: смотрел, какие буквы чаще встречаются в зашифрованных текстах, и пытался подставить буквы в соответствии с частотной таблицей: E — самая частая и так далее.\n",
    "В этом задании мы будем разрабатывать более современный и продвинутый вариант такого частотного метода. В качестве корпусов текстов для подсчётов частот можете взять что угодно, но для удобства вот вам “Война и мир” по-русски и по-английски"
   ]
  },
  {
   "cell_type": "markdown",
   "metadata": {},
   "source": [
    "### Оглавление <a name = 'outline'></a>\n",
    "* [Задание№1](#part1) \n",
    "* [Задание№2](#part2) \n",
    "* [Задание№3](#part3) \n",
    "* [Задание№4](#part4) \n",
    "* [Задание№5](#part5) \n",
    "* [Задание№6](#part6) "
   ]
  },
  {
   "cell_type": "markdown",
   "metadata": {},
   "source": [
    "> 1.) <a name = 'part1'></a> Реализуйте базовый частотный метод по Шерлоку Холмсу:\n",
    "подсчитайте частоты букв по корпусам (пунктуацию и капитализацию можно просто опустить, а вот пробелы лучше оставить);\n",
    "возьмите какие-нибудь тестовые тексты (нужно взять по меньшей мере 2-3 предложения, иначе вряд ли сработает), зашифруйте их посредством случайной перестановки символов;\n",
    "расшифруйте их таким частотным методом."
   ]
  },
  {
   "cell_type": "code",
   "execution_count": 1,
   "metadata": {},
   "outputs": [],
   "source": [
    "import re\n",
    "import random\n",
    "import copy\n",
    "import string\n",
    "from collections import Counter\n",
    "\n",
    "from tqdm.notebook import tqdm\n",
    "from textwrap import wrap\n",
    "from asrtoolkit import cer\n",
    "import numpy as np\n",
    "import pandas as pd\n",
    "from nltk import everygrams\n",
    "from nltk.tokenize import word_tokenize\n",
    "\n",
    "np.random.seed(42)\n",
    "\n",
    "import matplotlib.pyplot as plt\n",
    "\n",
    "RU_ALPHABET = 'абвгдеёжзийклмнопрстуфхцчшщъыьэюя '"
   ]
  },
  {
   "cell_type": "code",
   "execution_count": 2,
   "metadata": {},
   "outputs": [],
   "source": [
    "with open('data/books/WarAndPeace.txt', 'r') as fin:\n",
    "    wp_text = fin.read()\n",
    "    \n",
    "with open('data/books/AnnaKarenina.txt', 'r') as fin:\n",
    "    ak_text = fin.read()"
   ]
  },
  {
   "cell_type": "code",
   "execution_count": 3,
   "metadata": {},
   "outputs": [],
   "source": [
    "def validation(word):\n",
    "    match = re.match(\"^[А-Яа-яё]+$\", word)\n",
    "    return bool(match)\n",
    "\n",
    "def tokenize(text):\n",
    "    tokens = word_tokenize(text, language='russian')\n",
    "    tokens = [word.lower() for word in tokens if validation(word)] \n",
    "    \n",
    "    return tokens\n",
    "\n",
    "def n_gram_sorted_frequency(text, n_gram=1):\n",
    "    freqs = dict()\n",
    "    text = [''.join(ngram) for ngram in everygrams(text, min_len=n_gram, max_len=n_gram)]\n",
    "    return dict(Counter(text).most_common())"
   ]
  },
  {
   "cell_type": "code",
   "execution_count": 4,
   "metadata": {},
   "outputs": [],
   "source": [
    "tokens_wp = tokenize(wp_text)\n",
    "tokens_ak = tokenize(ak_text)"
   ]
  },
  {
   "cell_type": "code",
   "execution_count": 5,
   "metadata": {},
   "outputs": [],
   "source": [
    "clear_text_wp = ' '.join(tokens_wp)\n",
    "clear_text_ak = ' '.join(tokens_ak)"
   ]
  },
  {
   "cell_type": "code",
   "execution_count": 6,
   "metadata": {},
   "outputs": [],
   "source": [
    "symbol_cnt_wp = n_gram_sorted_frequency(clear_text_wp, 1)\n",
    "symbol_cnt_ak = n_gram_sorted_frequency(clear_text_ak, 1)"
   ]
  },
  {
   "cell_type": "code",
   "execution_count": 7,
   "metadata": {},
   "outputs": [
    {
     "data": {
      "text/html": [
       "<div>\n",
       "<style scoped>\n",
       "    .dataframe tbody tr th:only-of-type {\n",
       "        vertical-align: middle;\n",
       "    }\n",
       "\n",
       "    .dataframe tbody tr th {\n",
       "        vertical-align: top;\n",
       "    }\n",
       "\n",
       "    .dataframe thead th {\n",
       "        text-align: right;\n",
       "    }\n",
       "</style>\n",
       "<table border=\"1\" class=\"dataframe\">\n",
       "  <thead>\n",
       "    <tr style=\"text-align: right;\">\n",
       "      <th></th>\n",
       "      <th>Война и Мир</th>\n",
       "      <th>Анна Каренина</th>\n",
       "    </tr>\n",
       "  </thead>\n",
       "  <tbody>\n",
       "    <tr>\n",
       "      <th>2</th>\n",
       "      <td>а</td>\n",
       "      <td>е</td>\n",
       "    </tr>\n",
       "    <tr>\n",
       "      <th>3</th>\n",
       "      <td>е</td>\n",
       "      <td>а</td>\n",
       "    </tr>\n",
       "    <tr>\n",
       "      <th>4</th>\n",
       "      <td>и</td>\n",
       "      <td>н</td>\n",
       "    </tr>\n",
       "    <tr>\n",
       "      <th>5</th>\n",
       "      <td>н</td>\n",
       "      <td>и</td>\n",
       "    </tr>\n",
       "    <tr>\n",
       "      <th>17</th>\n",
       "      <td>г</td>\n",
       "      <td>ь</td>\n",
       "    </tr>\n",
       "    <tr>\n",
       "      <th>18</th>\n",
       "      <td>ь</td>\n",
       "      <td>ы</td>\n",
       "    </tr>\n",
       "    <tr>\n",
       "      <th>19</th>\n",
       "      <td>ы</td>\n",
       "      <td>г</td>\n",
       "    </tr>\n",
       "    <tr>\n",
       "      <th>20</th>\n",
       "      <td>з</td>\n",
       "      <td>б</td>\n",
       "    </tr>\n",
       "    <tr>\n",
       "      <th>21</th>\n",
       "      <td>б</td>\n",
       "      <td>ч</td>\n",
       "    </tr>\n",
       "    <tr>\n",
       "      <th>22</th>\n",
       "      <td>ч</td>\n",
       "      <td>з</td>\n",
       "    </tr>\n",
       "    <tr>\n",
       "      <th>23</th>\n",
       "      <td>й</td>\n",
       "      <td>ж</td>\n",
       "    </tr>\n",
       "    <tr>\n",
       "      <th>24</th>\n",
       "      <td>ж</td>\n",
       "      <td>й</td>\n",
       "    </tr>\n",
       "    <tr>\n",
       "      <th>28</th>\n",
       "      <td>ц</td>\n",
       "      <td>э</td>\n",
       "    </tr>\n",
       "    <tr>\n",
       "      <th>29</th>\n",
       "      <td>э</td>\n",
       "      <td>щ</td>\n",
       "    </tr>\n",
       "    <tr>\n",
       "      <th>30</th>\n",
       "      <td>щ</td>\n",
       "      <td>ц</td>\n",
       "    </tr>\n",
       "    <tr>\n",
       "      <th>32</th>\n",
       "      <td>ё</td>\n",
       "      <td>ъ</td>\n",
       "    </tr>\n",
       "    <tr>\n",
       "      <th>33</th>\n",
       "      <td>ъ</td>\n",
       "      <td>ё</td>\n",
       "    </tr>\n",
       "  </tbody>\n",
       "</table>\n",
       "</div>"
      ],
      "text/plain": [
       "   Война и Мир Анна Каренина\n",
       "2            а             е\n",
       "3            е             а\n",
       "4            и             н\n",
       "5            н             и\n",
       "17           г             ь\n",
       "18           ь             ы\n",
       "19           ы             г\n",
       "20           з             б\n",
       "21           б             ч\n",
       "22           ч             з\n",
       "23           й             ж\n",
       "24           ж             й\n",
       "28           ц             э\n",
       "29           э             щ\n",
       "30           щ             ц\n",
       "32           ё             ъ\n",
       "33           ъ             ё"
      ]
     },
     "execution_count": 7,
     "metadata": {},
     "output_type": "execute_result"
    }
   ],
   "source": [
    "symbol_df = pd.DataFrame()\n",
    "symbol_df['Война и Мир'] = symbol_cnt_wp.keys()\n",
    "symbol_df['Анна Каренина'] = symbol_cnt_ak.keys()\n",
    "symbol_df[symbol_df['Анна Каренина'] != symbol_df['Война и Мир']]"
   ]
  },
  {
   "cell_type": "markdown",
   "metadata": {},
   "source": [
    "**Частота символов в \"Анне Карениной\" и \"Войне и Мир\" различная. Поэкспериментируем - потом для честности объединим тексты**"
   ]
  },
  {
   "cell_type": "markdown",
   "metadata": {},
   "source": [
    "**Напишем простой шифратор со случайным мапингом алфавита**"
   ]
  },
  {
   "cell_type": "code",
   "execution_count": 8,
   "metadata": {},
   "outputs": [],
   "source": [
    "class Cipher:\n",
    "    \n",
    "    def __init__(self, alphabet):\n",
    "        self.alphabet = alphabet\n",
    "        shuffle = np.random.choice(alphabet, replace=False, size=len(alphabet))\n",
    "        self.orig2ciph = dict()\n",
    "        self.ciph2orig = dict()\n",
    "        for original_char, shuffle_char in zip(alphabet, shuffle):\n",
    "            self.orig2ciph[original_char] = shuffle_char\n",
    "            self.ciph2orig[shuffle_char] = original_char\n",
    "    \n",
    "    def decode(self, text):\n",
    "        return ''.join([self.ciph2orig[char] for char in text])\n",
    "\n",
    "    def encode(self, text):\n",
    "        return ''.join([self.orig2ciph[char] for char in text])"
   ]
  },
  {
   "cell_type": "code",
   "execution_count": 9,
   "metadata": {},
   "outputs": [],
   "source": [
    "ru_cipher = Cipher(list(RU_ALPHABET))"
   ]
  },
  {
   "cell_type": "code",
   "execution_count": 10,
   "metadata": {},
   "outputs": [],
   "source": [
    "WP_TEST = \"\"\"\n",
    "Кутузов не ответил. Он, казалось, уж забыл о том, что было сказано им, и сидел задумавшись. \n",
    "Через пять минут, плавно раскачиваясь на мягких рессорах коляски, Кутузов обратился к князю Андрею. \n",
    "На лице его не было и следа волнения. \n",
    "Он с тонкою насмешливостью расспрашивал князя Андрея о подробностях его свидания с императором, об отзывах, \n",
    "слышанных при дворе о кремском деле, и о некоторых общих знакомых женщинах.\n",
    "\"\"\""
   ]
  },
  {
   "cell_type": "code",
   "execution_count": 11,
   "metadata": {},
   "outputs": [
    {
     "data": {
      "text/plain": [
       "'кутузов не ответил он казалось уж забыл о том что было сказано им и сидел задумавшись через пять минут плавно раскачиваясь на мягких рессорах коляски кутузов обратился к князю андрею на лице его не было и следа волнения он с тонкою насмешливостью расспрашивал князя андрея о подробностях его свидания с императором об отзывах слышанных при дворе о кремском деле и о некоторых общих знакомых женщинах'"
      ]
     },
     "execution_count": 11,
     "metadata": {},
     "output_type": "execute_result"
    }
   ],
   "source": [
    "clear_wp_test = ' '.join(tokenize(WP_TEST))\n",
    "' '.join(tokenize(WP_TEST))"
   ]
  },
  {
   "cell_type": "code",
   "execution_count": 12,
   "metadata": {},
   "outputs": [
    {
     "data": {
      "text/plain": [
       "'дгэгямъыечымэъчэипымеыдояопмв ыглыяотупымыэмрыхэмытупмывдояоемыирыиывизчпыяозгроъсив ыхчбчяыкнэ ыриегэыкпоъемыбовдохиъонв ыеоырнщдицыбчввмбоцыдмпнвдиыдгэгямъымтбоэипвныдыденяйыоезбчйыеоыпиючычщмыечытупмыиывпчзоыъмпечеинымеывыэмедмйыеоврчспиъмвэ йыбоввкбосиъопыденяныоезбчнымыкмзбмтемвэнцычщмывъизоеинывыиркчбоэмбмрымтымэяуъоцывпусоееуцыкбиызъмбчымыдбчрвдмрызчпчыиымыечдмэмбуцымтшицыяеодмруцылчешиеоц'"
      ]
     },
     "execution_count": 12,
     "metadata": {},
     "output_type": "execute_result"
    }
   ],
   "source": [
    "encode_wp_test = ru_cipher.encode(clear_wp_test)\n",
    "encode_wp_test"
   ]
  },
  {
   "cell_type": "code",
   "execution_count": 13,
   "metadata": {},
   "outputs": [
    {
     "data": {
      "text/plain": [
       "'кутузов не ответил он казалось уж забыл о том что было сказано им и сидел задумавшись через пять минут плавно раскачиваясь на мягких рессорах коляски кутузов обратился к князю андрею на лице его не было и следа волнения он с тонкою насмешливостью расспрашивал князя андрея о подробностях его свидания с императором об отзывах слышанных при дворе о кремском деле и о некоторых общих знакомых женщинах'"
      ]
     },
     "execution_count": 13,
     "metadata": {},
     "output_type": "execute_result"
    }
   ],
   "source": [
    "decode_wp_test = ru_cipher.decode(encode_wp_test)\n",
    "decode_wp_test"
   ]
  },
  {
   "cell_type": "code",
   "execution_count": 14,
   "metadata": {},
   "outputs": [
    {
     "name": "stdout",
     "output_type": "stream",
     "text": [
      "Character Error Rate: 0.0\n"
     ]
    }
   ],
   "source": [
    "print(f\"Character Error Rate: {cer(clear_wp_test, decode_wp_test)}\")"
   ]
  },
  {
   "cell_type": "markdown",
   "metadata": {},
   "source": [
    "**Кодирует - Декодирует верно**\n",
    "\n",
    "**Объединим книжки - это будет наше обучение. За тест будем брать тексты различной длины****"
   ]
  },
  {
   "cell_type": "code",
   "execution_count": 15,
   "metadata": {},
   "outputs": [],
   "source": [
    "train = clear_text_wp + clear_text_ak"
   ]
  },
  {
   "cell_type": "code",
   "execution_count": 16,
   "metadata": {},
   "outputs": [],
   "source": [
    "def random_test(text, text_len=1000):\n",
    "    list_word = text.split(' ')\n",
    "    idx = np.random.randint(0, len(list_word) - text_len + 1)\n",
    "    return ' '.join(list_word[idx : idx + text_len])"
   ]
  },
  {
   "cell_type": "code",
   "execution_count": 17,
   "metadata": {},
   "outputs": [],
   "source": [
    "def decode(train_freq, test_freq, text):\n",
    "    new_mapping = dict(zip(test_freq, train_freq))\n",
    "    no_key = list(train_freq.keys() - new_mapping.keys())\n",
    "    shuffled_no_key = random.sample(no_key, len(no_key))\n",
    "    for orig, shuffled in zip(no_key, shuffled_no_key):\n",
    "        new_mapping[shuffled] = orig\n",
    "    return ''.join([new_mapping[char] for char in text])"
   ]
  },
  {
   "cell_type": "code",
   "execution_count": 18,
   "metadata": {},
   "outputs": [
    {
     "data": {
      "text/plain": [
       "'и сняла перчатки передвигая стулья и кресла с помощью незаметных лакеев общество разместилось разделившись на две части у самовара с хозяйкой и на противоположном конце гостиной около красивой жены посланника в черном бархате и с черными резкими бровями разговор в обоих центрах как и всегда в первые минуты колебался перебиваемый встречами приветствиями предложениями чая как бы отыскивая на чем остановиться она необыкновенно хороша как актриса видно что она изучала каульбаха говорил дипломат в кружке жены посланника вы заметили как она ах пожалуйста не будем говорить про нильсон про нее нельзя ничего сказать нового сказала толстая красная без бровей и без'"
      ]
     },
     "execution_count": 18,
     "metadata": {},
     "output_type": "execute_result"
    }
   ],
   "source": [
    "test = random_test(train, 100)\n",
    "test"
   ]
  },
  {
   "cell_type": "code",
   "execution_count": 19,
   "metadata": {},
   "outputs": [],
   "source": [
    "encoded_test = ru_cipher.decode(test)"
   ]
  },
  {
   "cell_type": "code",
   "execution_count": 20,
   "metadata": {},
   "outputs": [],
   "source": [
    "symbol_freq_test = n_gram_sorted_frequency(encoded_test, 1)\n",
    "symbol_freq_train = n_gram_sorted_frequency(train, 1)"
   ]
  },
  {
   "cell_type": "code",
   "execution_count": 21,
   "metadata": {},
   "outputs": [
    {
     "data": {
      "text/plain": [
       "'н тиуко масгорвн масаблнзоу трчкыу н всатко т медехыц иаподариьж коваал еяхатрле сопдатрнкеты сопбакнлюнты ио бла готрн ч тоделосо т жепуйвей н ио мсернлемекешиед веиэа зетрнией евеке всотнлей шаиь меткоиинво л гасиед яосжора н т гасиьдн сапвндн яселудн сопзелес л еяенж эаирсож вов н лтазбо л масльа дничрь векаяокту масаянлоадьй лтрсагодн мснлартрлнудн мсабкешаинудн гоу вов яь ерьтвнлоу ио гад етроиелнрыту еио иаеяьвиелаиие жесеюо вов оврснто лнбие гре еио нпчгоко вочкыяожо зелеснк бнмкедор л всчшва шаиь меткоиинво ль подарнкн вов еио ож мешокчйтро иа ячбад зелеснры мсе инкытеи мсе иаа иакыпу ингазе твопоры иелезе твопоко ректроу всотиоу яап яселай н яап'"
      ]
     },
     "execution_count": 21,
     "metadata": {},
     "output_type": "execute_result"
    }
   ],
   "source": [
    "decoded_test = decode(symbol_freq_train, symbol_freq_test, encoded_test)\n",
    "decoded_test"
   ]
  },
  {
   "cell_type": "code",
   "execution_count": 22,
   "metadata": {},
   "outputs": [
    {
     "name": "stdout",
     "output_type": "stream",
     "text": [
      "Character Error Rate: 82.93051359516616\n"
     ]
    }
   ],
   "source": [
    "print(f\"Character Error Rate: {cer(test, decoded_test)}\")"
   ]
  },
  {
   "cell_type": "code",
   "execution_count": 23,
   "metadata": {},
   "outputs": [],
   "source": [
    "cer_list = []\n",
    "text_sizes = [100, 200, 400, 800, 1000, 1500, 2000, 4000, 5000]\n",
    "for text_len in text_sizes:\n",
    "    mean_list = []\n",
    "    for _ in range(10):\n",
    "        test = random_test(train, text_len)\n",
    "        encoded_test = ru_cipher.decode(test)\n",
    "        symbol_freq_test = n_gram_sorted_frequency(encoded_test, 1)\n",
    "        decoded_test = decode(symbol_freq_train, symbol_freq_test, encoded_test)\n",
    "        mean_list.append(cer(test, decoded_test))\n",
    "    cer_list.append(np.array(mean_list).mean())"
   ]
  },
  {
   "cell_type": "code",
   "execution_count": 24,
   "metadata": {},
   "outputs": [
    {
     "data": {
      "image/png": "[encoded data removed]",
      "text/plain": [
       "<Figure size 1152x648 with 1 Axes>"
      ]
     },
     "metadata": {
      "needs_background": "light"
     },
     "output_type": "display_data"
    }
   ],
   "source": [
    "plt.figure(figsize=(16, 9))\n",
    "plt.plot(text_sizes, cer_list)\n",
    "plt.xlabel('Text size')\n",
    "plt.ylabel('CER');"
   ]
  },
  {
   "cell_type": "markdown",
   "metadata": {},
   "source": [
    "[Вернуться к оглавлению](#outline)"
   ]
  },
  {
   "cell_type": "markdown",
   "metadata": {},
   "source": [
    "> 2.)  <a name = 'part2'></a> Вряд ли в результате получилась такая уж хорошая расшифровка, разве что если вы брали в качестве тестовых данных целые рассказы. Но и Шерлок Холмс был не так уж прост: после буквы E, которая действительно выделяется частотой, дальше он анализировал уже конкретные слова и пытался угадать, какими они могли бы быть. Я не знаю, как запрограммировать такой интуитивный анализ, так что давайте просто сделаем следующий логический шаг:\n",
    "> - подсчитайте частоты биграмм (т.е. пар последовательных букв) по корпусам;\n",
    "> - проведите тестирование аналогично п.1, но при помощи биграмм\n"
   ]
  },
  {
   "cell_type": "code",
   "execution_count": 25,
   "metadata": {},
   "outputs": [],
   "source": [
    "gram_2_train = n_gram_sorted_frequency(train, 2)\n",
    "gram_2_test = n_gram_sorted_frequency(encoded_test, 2) "
   ]
  },
  {
   "cell_type": "code",
   "execution_count": 26,
   "metadata": {},
   "outputs": [],
   "source": [
    "def decode(train_freq, test_freq, text):\n",
    "    new_mapping = dict(zip(test_freq, train_freq))\n",
    "    return ''.join([new_mapping[char] if char in list(new_mapping.keys()) else char for char in wrap(text, 2)]) "
   ]
  },
  {
   "cell_type": "code",
   "execution_count": 27,
   "metadata": {},
   "outputs": [],
   "source": [
    "decoded_test = decode(gram_2_train, gram_2_test, encoded_test)"
   ]
  },
  {
   "cell_type": "code",
   "execution_count": 28,
   "metadata": {},
   "outputs": [
    {
     "name": "stdout",
     "output_type": "stream",
     "text": [
      "Character Error Rate: 76.53215719834112\n"
     ]
    }
   ],
   "source": [
    "print(f\"Character Error Rate: {cer(test, decoded_test)}\")"
   ]
  },
  {
   "cell_type": "code",
   "execution_count": 29,
   "metadata": {},
   "outputs": [],
   "source": [
    "cer_list = []\n",
    "text_sizes = [100, 200, 400, 800, 1000, 1500, 2000, 4000, 5000]\n",
    "gram_2_train = n_gram_sorted_frequency(train, 2)\n",
    "for text_len in text_sizes:\n",
    "    mean_list = []\n",
    "    for _ in range(10):\n",
    "        test = random_test(train, text_len)\n",
    "        encoded_test = ru_cipher.decode(test)\n",
    "        gram_2_test = n_gram_sorted_frequency(encoded_test, 2)\n",
    "        decoded_test = decode(gram_2_train, gram_2_test, encoded_test)\n",
    "        mean_list.append(cer(test, decoded_test))\n",
    "    cer_list.append(np.array(mean_list).mean())"
   ]
  },
  {
   "cell_type": "code",
   "execution_count": 30,
   "metadata": {},
   "outputs": [
    {
     "data": {
      "image/png": "[encoded data removed]",
      "text/plain": [
       "<Figure size 1152x648 with 1 Axes>"
      ]
     },
     "metadata": {
      "needs_background": "light"
     },
     "output_type": "display_data"
    }
   ],
   "source": [
    "plt.figure(figsize=(16, 9))\n",
    "plt.plot(text_sizes, cer_list)\n",
    "plt.xlabel('Text size')\n",
    "plt.ylabel('CER');"
   ]
  },
  {
   "cell_type": "markdown",
   "metadata": {},
   "source": [
    "**Для биграмм текст слишком мал - частоты обучения и теста сильно отличаются**"
   ]
  },
  {
   "cell_type": "markdown",
   "metadata": {},
   "source": [
    "[Вернуться к оглавлению](#outline)"
   ]
  },
  {
   "cell_type": "markdown",
   "metadata": {},
   "source": [
    "> 3.)  <a name = 'part3'></a> Но и это ещё не всё: биграммы скорее всего тоже далеко не всегда работают. Основная часть задания — в том, как можно их улучшить:\n",
    "> * предложите метод обучения перестановки символов в этом задании, основанный на MCMC-сэмплировании, но по-прежнему работающий на основе статистики биграмм;\n",
    "> * реализуйте и протестируйте его, убедитесь, что результаты улучшились.\n"
   ]
  },
  {
   "cell_type": "code",
   "execution_count": 31,
   "metadata": {},
   "outputs": [
    {
     "data": {
      "text/plain": [
       "'из глаз он нагнулся к ее руке и стал целовать стараясь скрыть свое волнение которое он знал не имело никакого основания но он не мог преодолеть его вот так вот это лучше говорила она пожимая сильным движением его руку вот одно одно что нам осталось он опомнился и поднял голову что за вздор что за бессмысленный вздор ты говоришь нет это правда что что правда что я умру я видела сон сон повторил вронский и мгновенно вспомнил своего мужика во сне да сон сказала она давно уж я видела этот сон я видела что я вбежала в свою спальню что мне нужно там взять узнать ты знаешь как это бывает во сне говорила она с ужасом широко открывая глаза и в спальне в углу стоит ах какой вздор как можно но она не позволила себя перебить то что она говорила было слишком важно для нее и это повернулось и я вижу что это мужик маленький с взъерошенною бородой и страшный я хотела бежать но он нагнулся над мешком и руками копошится она представила как он копошится в мешке ужас был на ее лице и вронский вспоминая свой сон чувствовал такой же ужас наполнявший его душу он копошится и приговаривает и'"
      ]
     },
     "execution_count": 31,
     "metadata": {},
     "output_type": "execute_result"
    }
   ],
   "source": [
    "test = random_test(train, 200)\n",
    "test"
   ]
  },
  {
   "cell_type": "code",
   "execution_count": 32,
   "metadata": {},
   "outputs": [
    {
     "data": {
      "text/plain": [
       "'ияыщпояымеыеощегпвныдыччыбгдчыиывэопыючпмъоэ ывэобонв ывдбуэ ывъмчыъмпечеичыдмэмбмчымеыяеопыечыирчпмыеидодмщмымвемъоеиныемымеыечырмщыкбчмзмпчэ ычщмыъмэыэодыъмэыжэмыпгхсчыщмъмбипоымеоыкмлиронывип еурызъилчеичрычщмыбгдгыъмэымземымземыхэмыеорымвэопмв ымеымкмреипвныиыкмзенпыщмпмъгыхэмыяоыъязмбыхэмыяоытчвврувпчееуаыъязмбыэуыщмъмбис ыечэыжэмыкбоъзоыхэмыхэмыкбоъзоыхэмыныгрбгыныъизчпоывмеывмеыкмъэмбипыъбмевдиаыиырщемъчеемыъвкмреипывъмчщмырглидоыъмывечызоывмеывдояопоымеоызоъемыглыныъизчпоыжэмэывмеыныъизчпоыхэмыныътчлопоыъывъмйывкоп ейыхэмыречыеглемыэорыъянэ ыгяеоэ ыэуыяеочс ыдодыжэмытуъочэыъмывечыщмъмбипоымеоывыгловмрысибмдмымэдбуъоныщпояоыиыъывкоп ечыъыгщпгывэмиэыоцыдодмаыъязмбыдодырмлемыемымеоыечыкмяъмпипоывчтныкчбчтиэ ыэмыхэмымеоыщмъмбипоытупмывписдмрыъолемызпныеччыиыжэмыкмъчбегпмв ыиыныъилгыхэмыжэмырглидыропче диаывыъяёчбмсчеемйытмбмзмаыиывэбосеуаыныцмэчпоытчлоэ ыемымеыеощегпвныеозырчсдмрыиыбгдориыдмкмсиэвнымеоыкбчзвэоъипоыдодымеыдмкмсиэвныъырчсдчыгловытупыеоыччыпиючыиыъбмевдиаыъвкмриеонывъмаывмеыхгъвэъмъопыэодмаылчыгловыеокмпенъсиаычщмызгсгымеыдмкмсиэвныиыкбищмъобиъочэыи'"
      ]
     },
     "execution_count": 32,
     "metadata": {},
     "output_type": "execute_result"
    }
   ],
   "source": [
    "encoded_test = ru_cipher.encode(test)\n",
    "encoded_test"
   ]
  },
  {
   "cell_type": "code",
   "execution_count": 33,
   "metadata": {},
   "outputs": [],
   "source": [
    "def normalize_freq(text, ngram):\n",
    "    ngram_dict = n_gram_sorted_frequency(text, ngram)\n",
    "    ngram_sum = sum(ngram_dict.values())\n",
    "    ngram_dict.update({n: ngram_dict[n] / ngram_sum for n in ngram_dict.keys()})\n",
    "\n",
    "    return ngram_dict"
   ]
  },
  {
   "cell_type": "code",
   "execution_count": 34,
   "metadata": {},
   "outputs": [],
   "source": [
    "def decode(text, char_map):\n",
    "    return ''.join([char_map[c] if c in char_map.keys() else c for c in text])"
   ]
  },
  {
   "cell_type": "code",
   "execution_count": 35,
   "metadata": {},
   "outputs": [],
   "source": [
    "def get_text_proba(text, mapping, freqs, n_gram=2):\n",
    "    decoded_text = decode(text, mapping)\n",
    "    log_proba = 0\n",
    "    for i in range(len(decoded_text) - n_gram):\n",
    "        bigram = decoded_text[i: i + n_gram]\n",
    "        bigram_proba = freqs.get(bigram)\n",
    "        if bigram_proba is None:\n",
    "            bigram_proba = 1 / (len(text) + len(mapping.keys())**n_gram)\n",
    "        log_proba += np.log(bigram_proba)\n",
    "    return log_proba"
   ]
  },
  {
   "cell_type": "code",
   "execution_count": 36,
   "metadata": {},
   "outputs": [],
   "source": [
    "class MCMC():\n",
    "    \n",
    "    def __init__(self, train_alphabet, train_freq, n_gram):\n",
    "        self.train_alphabet = list(train_alphabet)\n",
    "        self.train_freq = train_freq\n",
    "        self.n_gram = n_gram\n",
    "        \n",
    "    def fit(self, text, text_alphabet, steps, n_epochs):\n",
    "        \n",
    "        accept_count = 0\n",
    "        best_mapping = None\n",
    "        all_mappings = []\n",
    "        best_log_likekihood = -np.inf\n",
    "\n",
    "        for trial in tqdm(range(n_epochs), leave=False, position=0, total=n_epochs):\n",
    "\n",
    "            text_alphabet = list(text_alphabet)\n",
    "            reverse_mapping = {k: v for k, v in zip(text_alphabet, self.train_alphabet[:len(text_alphabet)])}\n",
    "            log_proba_current = get_text_proba(text, reverse_mapping, self.train_freq, n_gram=self.n_gram)\n",
    "\n",
    "            for i in range(steps):\n",
    "                abc_proposal = copy.copy(self.train_alphabet)\n",
    "                idx1, idx2 = np.random.choice(len(abc_proposal), replace=False, size=2)\n",
    "                abc_proposal[idx1], abc_proposal[idx2] = abc_proposal[idx2], abc_proposal[idx1]\n",
    "                reverse_mapping_proposal = {k: v for k, v in zip(text_alphabet, abc_proposal[:len(text_alphabet)])}\n",
    "                log_proba_proposal = get_text_proba(text, reverse_mapping_proposal, self.train_freq, n_gram=self.n_gram)\n",
    "\n",
    "                p_accept = np.exp(log_proba_proposal - log_proba_current)\n",
    "\n",
    "                if p_accept > np.random.rand():\n",
    "                    accept_count += 1\n",
    "                    self.train_alphabet = abc_proposal\n",
    "                    log_proba_current = log_proba_proposal\n",
    "                    reverse_mapping = reverse_mapping_proposal\n",
    "\n",
    "            if log_proba_current > best_log_likekihood:\n",
    "                best_log_likekihood = log_proba_current\n",
    "                self.mapping = reverse_mapping\n",
    "                \n",
    "    def get_mapping(self):\n",
    "        return self.mapping"
   ]
  },
  {
   "cell_type": "code",
   "execution_count": 37,
   "metadata": {},
   "outputs": [],
   "source": [
    "bigramm_freq = normalize_freq(train, 2)\n",
    "test_alphabet = set(encoded_test)"
   ]
  },
  {
   "cell_type": "code",
   "execution_count": 38,
   "metadata": {},
   "outputs": [],
   "source": [
    "mcmc = MCMC(list(RU_ALPHABET), bigramm_freq, 2)"
   ]
  },
  {
   "cell_type": "code",
   "execution_count": 39,
   "metadata": {},
   "outputs": [
    {
     "data": {
      "application/vnd.jupyter.widget-view+json": {
       "model_id": "",
       "version_major": 2,
       "version_minor": 0
      },
      "text/plain": [
       "HBox(children=(HTML(value=''), FloatProgress(value=0.0, max=20.0), HTML(value='')))"
      ]
     },
     "metadata": {},
     "output_type": "display_data"
    }
   ],
   "source": [
    "mcmc.fit(encoded_test, test_alphabet, 10000, 20)"
   ]
  },
  {
   "cell_type": "code",
   "execution_count": 40,
   "metadata": {},
   "outputs": [
    {
     "data": {
      "text/plain": [
       "'из глаз он нагнулся к ее руке и стал целовать стараясь скрыть свое волнение которое он знал не имело никакого основания но он не мог преодолеть его вот так вот это лучше говорила она пожимая сильным движением его руку вот одно одно что нам осталось он опомнился и поднял голову что за вздор что за бессмысленный вздор ты говоришь нет это правда что что правда что я умру я видела сон сон повторил вронский и мгновенно вспомнил своего мужика во сне да сон сказала она давно уж я видела этот сон я видела что я вбежала в свою спальню что мне нужно там взять узнать ты знаешь как это бывает во сне говорила она с ужасом широко открывая глаза и в спальне в углу стоит ах какой вздор как можно но она не позволила себя перебить то что она говорила было слишком важно для нее и это повернулось и я вижу что это мужик маленький с взщерошенною бородой и страшный я хотела бежать но он нагнулся над мешком и руками копошится она представила как он копошится в мешке ужас был на ее лице и вронский вспоминая свой сон чувствовал такой же ужас наполнявший его душу он копошится и приговаривает и'"
      ]
     },
     "execution_count": 40,
     "metadata": {},
     "output_type": "execute_result"
    }
   ],
   "source": [
    "decoded_test = decode(encoded_test, mcmc.get_mapping())\n",
    "decoded_test"
   ]
  },
  {
   "cell_type": "code",
   "execution_count": 41,
   "metadata": {},
   "outputs": [
    {
     "name": "stdout",
     "output_type": "stream",
     "text": [
      "Character Error Rate: 0.09233610341643583\n"
     ]
    }
   ],
   "source": [
    "print(f\"Character Error Rate: {cer(test, decoded_test)}\")"
   ]
  },
  {
   "cell_type": "markdown",
   "metadata": {},
   "source": [
    "[Вернуться к оглавлению](#outline)"
   ]
  },
  {
   "cell_type": "markdown",
   "metadata": {},
   "source": [
    "> 4.)  <a name = 'part4'></a> Расшифруйте сообщение:\n",
    "\n",
    "←⇠⇒↟↹↷⇊↹↷↟↤↟↨←↹↝⇛⇯↳⇴⇒⇈↝⇊↾↹↟⇒↟↹⇷⇛⇞↨↟↹↝⇛⇯↳⇴⇒⇈↝⇊↾↹↨←⇌⇠↨↹⇙↹⇸↨⇛↙⇛↹⇠⇛⇛↲⇆←↝↟↞↹\n",
    "⇌⇛↨⇛⇯⇊↾↹⇒←↙⇌⇛↹⇷⇯⇛⇞↟↨⇴↨⇈↹⇠⇌⇛⇯←←↹↷⇠←↙⇛↹↷⇊↹↷⇠←↹⇠↤←⇒⇴⇒↟↹⇷⇯⇴↷↟⇒⇈↝⇛↹↟↹⇷⇛⇒⇙⇞↟↨\n",
    "←↹↳⇴⇌⇠↟↳⇴⇒⇈↝⇊↾↹↲⇴⇒⇒↹⇰⇴↹⇷⇛⇠⇒←↤↝←←↹⇞←↨↷←⇯↨⇛←↹⇰⇴↤⇴↝↟←↹⇌⇙⇯⇠⇴↹↘\n",
    "⇛↨↞↹⇌⇛↝←⇞↝⇛↹↞↹↝↟⇞←↙⇛↹↝←↹⇛↲←⇆⇴⇏"
   ]
  },
  {
   "cell_type": "code",
   "execution_count": 42,
   "metadata": {},
   "outputs": [],
   "source": [
    "text_1 = \"←⇠⇒↟↹↷⇊↹↷↟↤↟↨←↹↝⇛⇯↳⇴⇒⇈↝⇊↾↹↟⇒↟↹⇷⇛⇞↨↟↹↝⇛⇯↳⇴⇒⇈↝⇊↾↹↨←⇌⇠↨↹⇙↹⇸↨⇛↙⇛↹⇠⇛⇛↲⇆←↝↟↞↹⇌⇛↨⇛⇯⇊↾↹⇒←↙⇌⇛↹⇷⇯⇛⇞↟↨⇴↨⇈↹⇠⇌⇛⇯←←↹↷⇠←↙⇛↹↷⇊↹↷⇠←↹⇠↤←⇒⇴⇒↟↹⇷⇯⇴↷↟⇒⇈↝⇛↹↟↹⇷⇛⇒⇙⇞↟↨←↹↳⇴⇌⇠↟↳⇴⇒⇈↝⇊↾↹↲⇴⇒⇒↹⇰⇴↹⇷⇛⇠⇒←↤↝←←↹⇞←↨↷←⇯↨⇛←↹⇰⇴↤⇴↝↟←↹⇌⇙⇯⇠⇴↹↘⇛↨↞↹⇌⇛↝←⇞↝⇛↹↞↹↝↟⇞←↙⇛↹↝←↹⇛↲←⇆⇴⇏\""
   ]
  },
  {
   "cell_type": "code",
   "execution_count": 43,
   "metadata": {},
   "outputs": [],
   "source": [
    "original_message = \"если вы видите нормальный или почти нормальный текст у этого сообщения который легко прочитать скорее всего вы все сделали правильно и получите максимальный балл за последнее четвертое задание курса хотя конечно я ничего не обещаю\""
   ]
  },
  {
   "cell_type": "code",
   "execution_count": 44,
   "metadata": {},
   "outputs": [],
   "source": [
    "mcmc_1 = MCMC(list(RU_ALPHABET), bigramm_freq, 2)"
   ]
  },
  {
   "cell_type": "code",
   "execution_count": 45,
   "metadata": {},
   "outputs": [
    {
     "data": {
      "application/vnd.jupyter.widget-view+json": {
       "model_id": "",
       "version_major": 2,
       "version_minor": 0
      },
      "text/plain": [
       "HBox(children=(HTML(value=''), FloatProgress(value=0.0, max=50.0), HTML(value='')))"
      ]
     },
     "metadata": {},
     "output_type": "display_data"
    }
   ],
   "source": [
    "mcmc_1.fit(text_1, list(set(text_1)), 10000, 50)"
   ]
  },
  {
   "cell_type": "code",
   "execution_count": 48,
   "metadata": {},
   "outputs": [
    {
     "data": {
      "text/plain": [
       "'если вы вимите нордальный или почти нордальный текст у этого соожшения который легко прочитать скорее всего вы все смелали правильно и получите даксидальный жалл за послемнее четвертое замание курса ботя конечно я ничего не ожешащ'"
      ]
     },
     "execution_count": 48,
     "metadata": {},
     "output_type": "execute_result"
    }
   ],
   "source": [
    "decoded_test = decode(text_1, mcmc_1.get_mapping())\n",
    "decoded_test"
   ]
  },
  {
   "cell_type": "code",
   "execution_count": 49,
   "metadata": {},
   "outputs": [
    {
     "name": "stdout",
     "output_type": "stream",
     "text": [
      "Character Error Rate: 6.521739130434782\n"
     ]
    }
   ],
   "source": [
    "print(f\"Character Error Rate: {cer(original_message, decoded_test)}\")"
   ]
  },
  {
   "cell_type": "markdown",
   "metadata": {},
   "source": [
    "[Вернуться к оглавлению](#outline)"
   ]
  },
  {
   "cell_type": "markdown",
   "metadata": {},
   "source": [
    "> 5.)  <a name = 'part5'></a> А что если от биграмм перейти к триграммам (тройкам букв) или даже больше? Улучшатся ли результаты? Когда улучшатся, а когда нет? Чтобы ответить на этот вопрос эмпирически, уже может понадобиться погенерировать много тестовых перестановок и последить за метриками, глазами может быть и не видно."
   ]
  },
  {
   "cell_type": "code",
   "execution_count": 76,
   "metadata": {},
   "outputs": [],
   "source": [
    "np.random.seed(0)"
   ]
  },
  {
   "cell_type": "code",
   "execution_count": 77,
   "metadata": {},
   "outputs": [],
   "source": [
    "gramm_3_freq = normalize_freq(train, 3)"
   ]
  },
  {
   "cell_type": "code",
   "execution_count": 78,
   "metadata": {},
   "outputs": [],
   "source": [
    "mcmc_3 = MCMC(list(RU_ALPHABET), gramm_3_freq, 3)"
   ]
  },
  {
   "cell_type": "code",
   "execution_count": 79,
   "metadata": {},
   "outputs": [
    {
     "data": {
      "application/vnd.jupyter.widget-view+json": {
       "model_id": "",
       "version_major": 2,
       "version_minor": 0
      },
      "text/plain": [
       "HBox(children=(HTML(value=''), FloatProgress(value=0.0, max=50.0), HTML(value='')))"
      ]
     },
     "metadata": {},
     "output_type": "display_data"
    }
   ],
   "source": [
    "mcmc_3.fit(text_1, list(set(text_1)), 10000, 50)"
   ]
  },
  {
   "cell_type": "code",
   "execution_count": 80,
   "metadata": {},
   "outputs": [
    {
     "data": {
      "text/plain": [
       "'если вы видите нормальный или почти нормальный текст у этого сообщения который легко прочитать скорее всего вы все сделали правильно и получите максимальный балл за последнее четвертое задание курса хотя конечно я ничего не обещаъ'"
      ]
     },
     "execution_count": 80,
     "metadata": {},
     "output_type": "execute_result"
    }
   ],
   "source": [
    "decoded_test = decode(text_1, mcmc_3.get_mapping())\n",
    "decoded_test"
   ]
  },
  {
   "cell_type": "code",
   "execution_count": 81,
   "metadata": {},
   "outputs": [
    {
     "name": "stdout",
     "output_type": "stream",
     "text": [
      "Character Error Rate: 0.43478260869565216\n"
     ]
    }
   ],
   "source": [
    "print(f\"Character Error Rate: {cer(original_message, decoded_test)}\")"
   ]
  },
  {
   "cell_type": "code",
   "execution_count": 116,
   "metadata": {},
   "outputs": [],
   "source": [
    "np.random.seed(5)"
   ]
  },
  {
   "cell_type": "code",
   "execution_count": 117,
   "metadata": {},
   "outputs": [],
   "source": [
    "gramm_4_freq = normalize_freq(train, 4)"
   ]
  },
  {
   "cell_type": "code",
   "execution_count": 118,
   "metadata": {},
   "outputs": [],
   "source": [
    "mcmc_4 = MCMC(list(RU_ALPHABET), gramm_4_freq, 4)"
   ]
  },
  {
   "cell_type": "code",
   "execution_count": 119,
   "metadata": {},
   "outputs": [
    {
     "data": {
      "application/vnd.jupyter.widget-view+json": {
       "model_id": "",
       "version_major": 2,
       "version_minor": 0
      },
      "text/plain": [
       "HBox(children=(HTML(value=''), FloatProgress(value=0.0, max=50.0), HTML(value='')))"
      ]
     },
     "metadata": {},
     "output_type": "display_data"
    }
   ],
   "source": [
    "mcmc_4.fit(text_1, list(set(text_1)), 50000, 50)"
   ]
  },
  {
   "cell_type": "code",
   "execution_count": 120,
   "metadata": {},
   "outputs": [
    {
     "data": {
      "text/plain": [
       "'отанисуисньнвоим былахмужинания квним былахмуживоетвидиюв й ит  промншие в бужиаойе ияб кнвлвхите бооистой исуистоитьоаланияблснахм иния адкнвоиылетнылахмужиплааизлия таоьмооиковсобв оизльлмноиедбтлич вшие мокм ишимнкой имои порлг'"
      ]
     },
     "execution_count": 120,
     "metadata": {},
     "output_type": "execute_result"
    }
   ],
   "source": [
    "decoded_test = decode(text_1, mcmc_4.get_mapping())\n",
    "decoded_test"
   ]
  },
  {
   "cell_type": "code",
   "execution_count": 121,
   "metadata": {},
   "outputs": [
    {
     "name": "stdout",
     "output_type": "stream",
     "text": [
      "Character Error Rate: 86.52173913043478\n"
     ]
    }
   ],
   "source": [
    "print(f\"Character Error Rate: {cer(original_message, decoded_test)}\")"
   ]
  },
  {
   "cell_type": "markdown",
   "metadata": {},
   "source": [
    "**На триграммах точность сильно улучшилась, но на 4х-граммах при различных сидах и при увеличении итераций не сходится:(**"
   ]
  },
  {
   "cell_type": "markdown",
   "metadata": {},
   "source": [
    "[Вернуться к оглавлению](#outline)"
   ]
  },
  {
   "cell_type": "markdown",
   "metadata": {},
   "source": [
    "> 6.)  <a name = 'part6'></a> Какие вы можете придумать применения для этой модели? Пляшущие человечки ведь не так часто встречаются в жизни (хотя встречаются! и это самое потрясающее во всей этой истории, но об этом я расскажу потом)."
   ]
  },
  {
   "cell_type": "markdown",
   "metadata": {},
   "source": [
    "После мысли разгадки шифров сразу хочется подумать об реверс-инженеринге,о дизассемблировании. Также модель может применять в биологии для генных последовательностей. Возможно в алгоритмах восстановления сигналов, изображений."
   ]
  },
  {
   "cell_type": "markdown",
   "metadata": {},
   "source": [
    "[Вернуться к оглавлению](#outline)"
   ]
  }
 ],
 "metadata": {
  "kernelspec": {
   "display_name": "Python 3",
   "language": "python",
   "name": "python3"
  },
  "language_info": {
   "codemirror_mode": {
    "name": "ipython",
    "version": 3
   },
   "file_extension": ".py",
   "mimetype": "text/x-python",
   "name": "python",
   "nbconvert_exporter": "python",
   "pygments_lexer": "ipython3",
   "version": "3.8.5"
  }
 },
 "nbformat": 4,
 "nbformat_minor": 4
}
